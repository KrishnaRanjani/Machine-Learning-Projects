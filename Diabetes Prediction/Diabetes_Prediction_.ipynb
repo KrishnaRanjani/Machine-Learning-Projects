{
  "nbformat": 4,
  "nbformat_minor": 0,
  "metadata": {
    "colab": {
      "name": "Diabetes Prediction .ipynb",
      "provenance": []
    },
    "kernelspec": {
      "name": "python3",
      "display_name": "Python 3"
    },
    "language_info": {
      "name": "python"
    }
  },
  "cells": [
    {
      "cell_type": "markdown",
      "metadata": {
        "id": "f6QzgAQfiFtJ"
      },
      "source": [
        ""
      ]
    },
    {
      "cell_type": "code",
      "metadata": {
        "id": "S_SZIV_liFy4"
      },
      "source": [
        "import numpy as np # linear algebra\n",
        "import pandas as pd # data processing, CSV file "
      ],
      "execution_count": 1,
      "outputs": []
    },
    {
      "cell_type": "code",
      "metadata": {
        "colab": {
          "base_uri": "https://localhost:8080/",
          "height": 143
        },
        "id": "mkuma4y3iPwI",
        "outputId": "95032113-fc05-43bb-a6b4-d22b1b5fb7af"
      },
      "source": [
        "import pandas as pd\n",
        "df = pd.read_csv(\"/content/diabetes.csv\")\n",
        "df.head(3)"
      ],
      "execution_count": 2,
      "outputs": [
        {
          "output_type": "execute_result",
          "data": {
            "text/html": [
              "<div>\n",
              "<style scoped>\n",
              "    .dataframe tbody tr th:only-of-type {\n",
              "        vertical-align: middle;\n",
              "    }\n",
              "\n",
              "    .dataframe tbody tr th {\n",
              "        vertical-align: top;\n",
              "    }\n",
              "\n",
              "    .dataframe thead th {\n",
              "        text-align: right;\n",
              "    }\n",
              "</style>\n",
              "<table border=\"1\" class=\"dataframe\">\n",
              "  <thead>\n",
              "    <tr style=\"text-align: right;\">\n",
              "      <th></th>\n",
              "      <th>Pregnancies</th>\n",
              "      <th>Glucose</th>\n",
              "      <th>BloodPressure</th>\n",
              "      <th>SkinThickness</th>\n",
              "      <th>Insulin</th>\n",
              "      <th>BMI</th>\n",
              "      <th>DiabetesPedigreeFunction</th>\n",
              "      <th>Age</th>\n",
              "      <th>Outcome</th>\n",
              "    </tr>\n",
              "  </thead>\n",
              "  <tbody>\n",
              "    <tr>\n",
              "      <th>0</th>\n",
              "      <td>6</td>\n",
              "      <td>148</td>\n",
              "      <td>72</td>\n",
              "      <td>35</td>\n",
              "      <td>0</td>\n",
              "      <td>33.6</td>\n",
              "      <td>0.627</td>\n",
              "      <td>50</td>\n",
              "      <td>1</td>\n",
              "    </tr>\n",
              "    <tr>\n",
              "      <th>1</th>\n",
              "      <td>1</td>\n",
              "      <td>85</td>\n",
              "      <td>66</td>\n",
              "      <td>29</td>\n",
              "      <td>0</td>\n",
              "      <td>26.6</td>\n",
              "      <td>0.351</td>\n",
              "      <td>31</td>\n",
              "      <td>0</td>\n",
              "    </tr>\n",
              "    <tr>\n",
              "      <th>2</th>\n",
              "      <td>8</td>\n",
              "      <td>183</td>\n",
              "      <td>64</td>\n",
              "      <td>0</td>\n",
              "      <td>0</td>\n",
              "      <td>23.3</td>\n",
              "      <td>0.672</td>\n",
              "      <td>32</td>\n",
              "      <td>1</td>\n",
              "    </tr>\n",
              "  </tbody>\n",
              "</table>\n",
              "</div>"
            ],
            "text/plain": [
              "   Pregnancies  Glucose  BloodPressure  ...  DiabetesPedigreeFunction  Age  Outcome\n",
              "0            6      148             72  ...                     0.627   50        1\n",
              "1            1       85             66  ...                     0.351   31        0\n",
              "2            8      183             64  ...                     0.672   32        1\n",
              "\n",
              "[3 rows x 9 columns]"
            ]
          },
          "metadata": {},
          "execution_count": 2
        }
      ]
    },
    {
      "cell_type": "code",
      "metadata": {
        "colab": {
          "base_uri": "https://localhost:8080/"
        },
        "id": "qYxM6Bk5idsg",
        "outputId": "a71c84fa-5b26-4e5a-ffc2-9245eab9b57e"
      },
      "source": [
        "#unique features in the targeted variable\n",
        "df.Outcome.unique()"
      ],
      "execution_count": 3,
      "outputs": [
        {
          "output_type": "execute_result",
          "data": {
            "text/plain": [
              "array([1, 0])"
            ]
          },
          "metadata": {},
          "execution_count": 3
        }
      ]
    },
    {
      "cell_type": "code",
      "metadata": {
        "colab": {
          "base_uri": "https://localhost:8080/",
          "height": 408
        },
        "id": "RyMqrX6OihVA",
        "outputId": "4e987f3a-992f-4283-820d-e7d7d32b845c"
      },
      "source": [
        "#checking if there is any null value or not by using heatmap\n",
        "import matplotlib.pyplot as plt\n",
        "%matplotlib inline\n",
        "import seaborn as sns\n",
        "\n",
        "sns.heatmap(df.isnull(),yticklabels=False)"
      ],
      "execution_count": 4,
      "outputs": [
        {
          "output_type": "execute_result",
          "data": {
            "text/plain": [
              "<matplotlib.axes._subplots.AxesSubplot at 0x7f8fa4c95ad0>"
            ]
          },
          "metadata": {},
          "execution_count": 4
        },
        {
          "output_type": "display_data",
          "data": {
            "image/png": "[encoded data removed]",
            "text/plain": [
              "<Figure size 432x288 with 2 Axes>"
            ]
          },
          "metadata": {
            "needs_background": "light"
          }
        }
      ]
    },
    {
      "cell_type": "code",
      "metadata": {
        "colab": {
          "base_uri": "https://localhost:8080/",
          "height": 354
        },
        "id": "8PPiwHBgi0qX",
        "outputId": "a0399f3d-1784-4942-b3e2-62a69efed89d"
      },
      "source": [
        "sns.set_style(\"whitegrid\")\n",
        "sns.countplot(df.Outcome, data=df)"
      ],
      "execution_count": 5,
      "outputs": [
        {
          "output_type": "stream",
          "name": "stderr",
          "text": [
            "/usr/local/lib/python3.7/dist-packages/seaborn/_decorators.py:43: FutureWarning: Pass the following variable as a keyword arg: x. From version 0.12, the only valid positional argument will be `data`, and passing other arguments without an explicit keyword will result in an error or misinterpretation.\n",
            "  FutureWarning\n"
          ]
        },
        {
          "output_type": "execute_result",
          "data": {
            "text/plain": [
              "<matplotlib.axes._subplots.AxesSubplot at 0x7f8fa72b4d10>"
            ]
          },
          "metadata": {},
          "execution_count": 5
        },
        {
          "output_type": "display_data",
          "data": {
            "image/png": "[encoded data removed]",
            "text/plain": [
              "<Figure size 432x288 with 1 Axes>"
            ]
          },
          "metadata": {}
        }
      ]
    },
    {
      "cell_type": "code",
      "metadata": {
        "colab": {
          "base_uri": "https://localhost:8080/",
          "height": 297
        },
        "id": "BmlXAwDWi64I",
        "outputId": "281b7ca4-7b14-4e65-ba70-3e1e616965c8"
      },
      "source": [
        "plt.scatter(df.Age, df.BloodPressure)\n",
        "plt.xlabel('Age')\n",
        "plt.ylabel('BloodPressure')"
      ],
      "execution_count": 6,
      "outputs": [
        {
          "output_type": "execute_result",
          "data": {
            "text/plain": [
              "Text(0, 0.5, 'BloodPressure')"
            ]
          },
          "metadata": {},
          "execution_count": 6
        },
        {
          "output_type": "display_data",
          "data": {
            "image/png": "[encoded data removed]",
            "text/plain": [
              "<Figure size 432x288 with 1 Axes>"
            ]
          },
          "metadata": {}
        }
      ]
    },
    {
      "cell_type": "code",
      "metadata": {
        "colab": {
          "base_uri": "https://localhost:8080/",
          "height": 297
        },
        "id": "CWz_XkcLjCvf",
        "outputId": "81fae5b9-fddf-43a2-81a5-a78744230970"
      },
      "source": [
        "plt.scatter(df.Age, df.Pregnancies)\n",
        "plt.xlabel('Age')\n",
        "plt.ylabel('Pregnancies')"
      ],
      "execution_count": 7,
      "outputs": [
        {
          "output_type": "execute_result",
          "data": {
            "text/plain": [
              "Text(0, 0.5, 'Pregnancies')"
            ]
          },
          "metadata": {},
          "execution_count": 7
        },
        {
          "output_type": "display_data",
          "data": {
            "image/png": "[encoded data removed]",
            "text/plain": [
              "<Figure size 432x288 with 1 Axes>"
            ]
          },
          "metadata": {}
        }
      ]
    },
    {
      "cell_type": "code",
      "metadata": {
        "colab": {
          "base_uri": "https://localhost:8080/",
          "height": 300
        },
        "id": "pgbeZRPEjHcv",
        "outputId": "03ff3e36-3cd8-49e0-fa5f-17d945a5fd0d"
      },
      "source": [
        "plt.scatter(df.Age, df.BMI)\n",
        "plt.xlabel('Age')\n",
        "plt.ylabel('BMI')"
      ],
      "execution_count": 8,
      "outputs": [
        {
          "output_type": "execute_result",
          "data": {
            "text/plain": [
              "Text(0, 0.5, 'BMI')"
            ]
          },
          "metadata": {},
          "execution_count": 8
        },
        {
          "output_type": "display_data",
          "data": {
            "image/png": "[encoded data removed]",
            "text/plain": [
              "<Figure size 432x288 with 1 Axes>"
            ]
          },
          "metadata": {}
        }
      ]
    },
    {
      "cell_type": "code",
      "metadata": {
        "colab": {
          "base_uri": "https://localhost:8080/",
          "height": 1000
        },
        "id": "7ZSGEj5hjLGB",
        "outputId": "2c9002c6-e9d4-43a6-d3b4-d499853385f9"
      },
      "source": [
        "col=['Pregnancies', 'Glucose', 'BloodPressure', 'SkinThickness', 'Insulin',\n",
        "       'BMI', 'DiabetesPedigreeFunction', 'Age']\n",
        "for i in col:\n",
        "    sns.boxplot(df[i])\n",
        "    plt.show()"
      ],
      "execution_count": 10,
      "outputs": [
        {
          "output_type": "stream",
          "name": "stderr",
          "text": [
            "/usr/local/lib/python3.7/dist-packages/seaborn/_decorators.py:43: FutureWarning: Pass the following variable as a keyword arg: x. From version 0.12, the only valid positional argument will be `data`, and passing other arguments without an explicit keyword will result in an error or misinterpretation.\n",
            "  FutureWarning\n"
          ]
        },
        {
          "output_type": "display_data",
          "data": {
            "image/png": "[encoded data removed]",
            "text/plain": [
              "<Figure size 432x288 with 1 Axes>"
            ]
          },
          "metadata": {}
        },
        {
          "output_type": "stream",
          "name": "stderr",
          "text": [
            "/usr/local/lib/python3.7/dist-packages/seaborn/_decorators.py:43: FutureWarning: Pass the following variable as a keyword arg: x. From version 0.12, the only valid positional argument will be `data`, and passing other arguments without an explicit keyword will result in an error or misinterpretation.\n",
            "  FutureWarning\n"
          ]
        },
        {
          "output_type": "display_data",
          "data": {
            "image/png": "[encoded data removed]",
            "text/plain": [
              "<Figure size 432x288 with 1 Axes>"
            ]
          },
          "metadata": {}
        },
        {
          "output_type": "stream",
          "name": "stderr",
          "text": [
            "/usr/local/lib/python3.7/dist-packages/seaborn/_decorators.py:43: FutureWarning: Pass the following variable as a keyword arg: x. From version 0.12, the only valid positional argument will be `data`, and passing other arguments without an explicit keyword will result in an error or misinterpretation.\n",
            "  FutureWarning\n"
          ]
        },
        {
          "output_type": "display_data",
          "data": {
            "image/png": "[encoded data removed]",
            "text/plain": [
              "<Figure size 432x288 with 1 Axes>"
            ]
          },
          "metadata": {}
        },
        {
          "output_type": "stream",
          "name": "stderr",
          "text": [
            "/usr/local/lib/python3.7/dist-packages/seaborn/_decorators.py:43: FutureWarning: Pass the following variable as a keyword arg: x. From version 0.12, the only valid positional argument will be `data`, and passing other arguments without an explicit keyword will result in an error or misinterpretation.\n",
            "  FutureWarning\n"
          ]
        },
        {
          "output_type": "display_data",
          "data": {
            "image/png": "[encoded data removed]",
            "text/plain": [
              "<Figure size 432x288 with 1 Axes>"
            ]
          },
          "metadata": {}
        },
        {
          "output_type": "stream",
          "name": "stderr",
          "text": [
            "/usr/local/lib/python3.7/dist-packages/seaborn/_decorators.py:43: FutureWarning: Pass the following variable as a keyword arg: x. From version 0.12, the only valid positional argument will be `data`, and passing other arguments without an explicit keyword will result in an error or misinterpretation.\n",
            "  FutureWarning\n"
          ]
        },
        {
          "output_type": "display_data",
          "data": {
            "image/png": "[encoded data removed]",
            "text/plain": [
              "<Figure size 432x288 with 1 Axes>"
            ]
          },
          "metadata": {}
        },
        {
          "output_type": "stream",
          "name": "stderr",
          "text": [
            "/usr/local/lib/python3.7/dist-packages/seaborn/_decorators.py:43: FutureWarning: Pass the following variable as a keyword arg: x. From version 0.12, the only valid positional argument will be `data`, and passing other arguments without an explicit keyword will result in an error or misinterpretation.\n",
            "  FutureWarning\n"
          ]
        },
        {
          "output_type": "display_data",
          "data": {
            "image/png": "[encoded data removed]",
            "text/plain": [
              "<Figure size 432x288 with 1 Axes>"
            ]
          },
          "metadata": {}
        },
        {
          "output_type": "stream",
          "name": "stderr",
          "text": [
            "/usr/local/lib/python3.7/dist-packages/seaborn/_decorators.py:43: FutureWarning: Pass the following variable as a keyword arg: x. From version 0.12, the only valid positional argument will be `data`, and passing other arguments without an explicit keyword will result in an error or misinterpretation.\n",
            "  FutureWarning\n"
          ]
        },
        {
          "output_type": "display_data",
          "data": {
            "image/png": "[encoded data removed]",
            "text/plain": [
              "<Figure size 432x288 with 1 Axes>"
            ]
          },
          "metadata": {}
        },
        {
          "output_type": "stream",
          "name": "stderr",
          "text": [
            "/usr/local/lib/python3.7/dist-packages/seaborn/_decorators.py:43: FutureWarning: Pass the following variable as a keyword arg: x. From version 0.12, the only valid positional argument will be `data`, and passing other arguments without an explicit keyword will result in an error or misinterpretation.\n",
            "  FutureWarning\n"
          ]
        },
        {
          "output_type": "display_data",
          "data": {
            "image/png": "[encoded data removed]",
            "text/plain": [
              "<Figure size 432x288 with 1 Axes>"
            ]
          },
          "metadata": {}
        }
      ]
    },
    {
      "cell_type": "code",
      "metadata": {
        "id": "Mc23HhbijaQP"
      },
      "source": [
        "x=df.drop(['Outcome'], axis='columns')\n",
        "y=df.Outcome"
      ],
      "execution_count": 11,
      "outputs": []
    },
    {
      "cell_type": "code",
      "metadata": {
        "colab": {
          "base_uri": "https://localhost:8080/"
        },
        "id": "GCuASrjyjbuv",
        "outputId": "be7f325e-5c8c-4722-a9a8-14364aa6d411"
      },
      "source": [
        "print('The independent variabl')\n",
        "print(x.head(3))\n",
        "print('The dependent variable')\n",
        "print(y.head(3))"
      ],
      "execution_count": 12,
      "outputs": [
        {
          "output_type": "stream",
          "name": "stdout",
          "text": [
            "The independent variabl\n",
            "   Pregnancies  Glucose  BloodPressure  ...   BMI  DiabetesPedigreeFunction  Age\n",
            "0            6      148             72  ...  33.6                     0.627   50\n",
            "1            1       85             66  ...  26.6                     0.351   31\n",
            "2            8      183             64  ...  23.3                     0.672   32\n",
            "\n",
            "[3 rows x 8 columns]\n",
            "The dependent variable\n",
            "0    1\n",
            "1    0\n",
            "2    1\n",
            "Name: Outcome, dtype: int64\n"
          ]
        }
      ]
    },
    {
      "cell_type": "code",
      "metadata": {
        "colab": {
          "base_uri": "https://localhost:8080/"
        },
        "id": "XOAsSgl0jnh5",
        "outputId": "2593e799-bc51-4129-904c-68ea85723ea9"
      },
      "source": [
        "from scipy import stats\n",
        "import numpy as np\n",
        "z = np.abs(stats.zscore(x))\n",
        "print(z)"
      ],
      "execution_count": 13,
      "outputs": [
        {
          "output_type": "stream",
          "name": "stdout",
          "text": [
            "[[0.63994726 0.84832379 0.14964075 ... 0.20401277 0.46849198 1.4259954 ]\n",
            " [0.84488505 1.12339636 0.16054575 ... 0.68442195 0.36506078 0.19067191]\n",
            " [1.23388019 1.94372388 0.26394125 ... 1.10325546 0.60439732 0.10558415]\n",
            " ...\n",
            " [0.3429808  0.00330087 0.14964075 ... 0.73518964 0.68519336 0.27575966]\n",
            " [0.84488505 0.1597866  0.47073225 ... 0.24020459 0.37110101 1.17073215]\n",
            " [0.84488505 0.8730192  0.04624525 ... 0.20212881 0.47378505 0.87137393]]\n"
          ]
        }
      ]
    },
    {
      "cell_type": "code",
      "metadata": {
        "colab": {
          "base_uri": "https://localhost:8080/",
          "height": 362
        },
        "id": "h0WTSaHLkAKX",
        "outputId": "faf02fbf-9b61-4f76-eed0-7224765c12da"
      },
      "source": [
        "df1=pd.DataFrame(data=z,columns=x.columns )\n",
        "df1.head(10)"
      ],
      "execution_count": 14,
      "outputs": [
        {
          "output_type": "execute_result",
          "data": {
            "text/html": [
              "<div>\n",
              "<style scoped>\n",
              "    .dataframe tbody tr th:only-of-type {\n",
              "        vertical-align: middle;\n",
              "    }\n",
              "\n",
              "    .dataframe tbody tr th {\n",
              "        vertical-align: top;\n",
              "    }\n",
              "\n",
              "    .dataframe thead th {\n",
              "        text-align: right;\n",
              "    }\n",
              "</style>\n",
              "<table border=\"1\" class=\"dataframe\">\n",
              "  <thead>\n",
              "    <tr style=\"text-align: right;\">\n",
              "      <th></th>\n",
              "      <th>Pregnancies</th>\n",
              "      <th>Glucose</th>\n",
              "      <th>BloodPressure</th>\n",
              "      <th>SkinThickness</th>\n",
              "      <th>Insulin</th>\n",
              "      <th>BMI</th>\n",
              "      <th>DiabetesPedigreeFunction</th>\n",
              "      <th>Age</th>\n",
              "    </tr>\n",
              "  </thead>\n",
              "  <tbody>\n",
              "    <tr>\n",
              "      <th>0</th>\n",
              "      <td>0.639947</td>\n",
              "      <td>0.848324</td>\n",
              "      <td>0.149641</td>\n",
              "      <td>0.907270</td>\n",
              "      <td>0.692891</td>\n",
              "      <td>0.204013</td>\n",
              "      <td>0.468492</td>\n",
              "      <td>1.425995</td>\n",
              "    </tr>\n",
              "    <tr>\n",
              "      <th>1</th>\n",
              "      <td>0.844885</td>\n",
              "      <td>1.123396</td>\n",
              "      <td>0.160546</td>\n",
              "      <td>0.530902</td>\n",
              "      <td>0.692891</td>\n",
              "      <td>0.684422</td>\n",
              "      <td>0.365061</td>\n",
              "      <td>0.190672</td>\n",
              "    </tr>\n",
              "    <tr>\n",
              "      <th>2</th>\n",
              "      <td>1.233880</td>\n",
              "      <td>1.943724</td>\n",
              "      <td>0.263941</td>\n",
              "      <td>1.288212</td>\n",
              "      <td>0.692891</td>\n",
              "      <td>1.103255</td>\n",
              "      <td>0.604397</td>\n",
              "      <td>0.105584</td>\n",
              "    </tr>\n",
              "    <tr>\n",
              "      <th>3</th>\n",
              "      <td>0.844885</td>\n",
              "      <td>0.998208</td>\n",
              "      <td>0.160546</td>\n",
              "      <td>0.154533</td>\n",
              "      <td>0.123302</td>\n",
              "      <td>0.494043</td>\n",
              "      <td>0.920763</td>\n",
              "      <td>1.041549</td>\n",
              "    </tr>\n",
              "    <tr>\n",
              "      <th>4</th>\n",
              "      <td>1.141852</td>\n",
              "      <td>0.504055</td>\n",
              "      <td>1.504687</td>\n",
              "      <td>0.907270</td>\n",
              "      <td>0.765836</td>\n",
              "      <td>1.409746</td>\n",
              "      <td>5.484909</td>\n",
              "      <td>0.020496</td>\n",
              "    </tr>\n",
              "    <tr>\n",
              "      <th>5</th>\n",
              "      <td>0.342981</td>\n",
              "      <td>0.153185</td>\n",
              "      <td>0.253036</td>\n",
              "      <td>1.288212</td>\n",
              "      <td>0.692891</td>\n",
              "      <td>0.811341</td>\n",
              "      <td>0.818079</td>\n",
              "      <td>0.275760</td>\n",
              "    </tr>\n",
              "    <tr>\n",
              "      <th>6</th>\n",
              "      <td>0.250952</td>\n",
              "      <td>1.342476</td>\n",
              "      <td>0.987710</td>\n",
              "      <td>0.719086</td>\n",
              "      <td>0.071204</td>\n",
              "      <td>0.125977</td>\n",
              "      <td>0.676133</td>\n",
              "      <td>0.616111</td>\n",
              "    </tr>\n",
              "    <tr>\n",
              "      <th>7</th>\n",
              "      <td>1.827813</td>\n",
              "      <td>0.184482</td>\n",
              "      <td>3.572597</td>\n",
              "      <td>1.288212</td>\n",
              "      <td>0.692891</td>\n",
              "      <td>0.419775</td>\n",
              "      <td>1.020427</td>\n",
              "      <td>0.360847</td>\n",
              "    </tr>\n",
              "    <tr>\n",
              "      <th>8</th>\n",
              "      <td>0.547919</td>\n",
              "      <td>2.381884</td>\n",
              "      <td>0.046245</td>\n",
              "      <td>1.534551</td>\n",
              "      <td>4.021922</td>\n",
              "      <td>0.189437</td>\n",
              "      <td>0.947944</td>\n",
              "      <td>1.681259</td>\n",
              "    </tr>\n",
              "    <tr>\n",
              "      <th>9</th>\n",
              "      <td>1.233880</td>\n",
              "      <td>0.128489</td>\n",
              "      <td>1.390387</td>\n",
              "      <td>1.288212</td>\n",
              "      <td>0.692891</td>\n",
              "      <td>4.060474</td>\n",
              "      <td>0.724455</td>\n",
              "      <td>1.766346</td>\n",
              "    </tr>\n",
              "  </tbody>\n",
              "</table>\n",
              "</div>"
            ],
            "text/plain": [
              "   Pregnancies   Glucose  ...  DiabetesPedigreeFunction       Age\n",
              "0     0.639947  0.848324  ...                  0.468492  1.425995\n",
              "1     0.844885  1.123396  ...                  0.365061  0.190672\n",
              "2     1.233880  1.943724  ...                  0.604397  0.105584\n",
              "3     0.844885  0.998208  ...                  0.920763  1.041549\n",
              "4     1.141852  0.504055  ...                  5.484909  0.020496\n",
              "5     0.342981  0.153185  ...                  0.818079  0.275760\n",
              "6     0.250952  1.342476  ...                  0.676133  0.616111\n",
              "7     1.827813  0.184482  ...                  1.020427  0.360847\n",
              "8     0.547919  2.381884  ...                  0.947944  1.681259\n",
              "9     1.233880  0.128489  ...                  0.724455  1.766346\n",
              "\n",
              "[10 rows x 8 columns]"
            ]
          },
          "metadata": {},
          "execution_count": 14
        }
      ]
    },
    {
      "cell_type": "code",
      "metadata": {
        "colab": {
          "base_uri": "https://localhost:8080/"
        },
        "id": "Li_gXzZjkM4v",
        "outputId": "6a675e3e-dd78-4196-8bc6-98bb7810d990"
      },
      "source": [
        "#checking for the outlier by using IQR (Interquartile range)\n",
        "#The IQR describes the middle 50% of values when ordered from lowest to highest\n",
        "Q1 = df.quantile(0.25)\n",
        "Q3 = df.quantile(0.75)\n",
        "IQR = Q3 - Q1\n",
        "print(IQR)"
      ],
      "execution_count": 15,
      "outputs": [
        {
          "output_type": "stream",
          "name": "stdout",
          "text": [
            "Pregnancies                   5.0000\n",
            "Glucose                      41.2500\n",
            "BloodPressure                18.0000\n",
            "SkinThickness                32.0000\n",
            "Insulin                     127.2500\n",
            "BMI                           9.3000\n",
            "DiabetesPedigreeFunction      0.3825\n",
            "Age                          17.0000\n",
            "Outcome                       1.0000\n",
            "dtype: float64\n"
          ]
        }
      ]
    },
    {
      "cell_type": "code",
      "metadata": {
        "colab": {
          "base_uri": "https://localhost:8080/"
        },
        "id": "AEFVjFIhkqVn",
        "outputId": "3d9ec540-f04a-41a4-9eb6-2288d7d355f8"
      },
      "source": [
        "A = ((x < (Q1 - 1.5 * IQR)) |(x > (Q3 + 1.5 * IQR)))\n",
        "print(A)"
      ],
      "execution_count": 17,
      "outputs": [
        {
          "output_type": "stream",
          "name": "stdout",
          "text": [
            "       Age    BMI  BloodPressure  ...  Outcome  Pregnancies  SkinThickness\n",
            "0    False  False          False  ...    False        False          False\n",
            "1    False  False          False  ...    False        False          False\n",
            "2    False  False          False  ...    False        False          False\n",
            "3    False  False          False  ...    False        False          False\n",
            "4    False  False          False  ...    False        False          False\n",
            "..     ...    ...            ...  ...      ...          ...            ...\n",
            "763  False  False          False  ...    False        False          False\n",
            "764  False  False          False  ...    False        False          False\n",
            "765  False  False          False  ...    False        False          False\n",
            "766  False  False          False  ...    False        False          False\n",
            "767  False  False          False  ...    False        False          False\n",
            "\n",
            "[768 rows x 9 columns]\n"
          ]
        }
      ]
    },
    {
      "cell_type": "code",
      "metadata": {
        "colab": {
          "base_uri": "https://localhost:8080/"
        },
        "id": "bttiv1_wmuFn",
        "outputId": "a21a2742-1b4b-4876-9965-90cfa4133763"
      },
      "source": [
        "#removing all the outlier from the dataframe\n",
        "X_remove_outlier = df[~((df < (Q1 - 1.5 * IQR)) |(df > (Q3 + 1.5 * IQR))).any(axis=1)]\n",
        "X_remove_outlier.shape"
      ],
      "execution_count": 18,
      "outputs": [
        {
          "output_type": "execute_result",
          "data": {
            "text/plain": [
              "(639, 9)"
            ]
          },
          "metadata": {},
          "execution_count": 18
        }
      ]
    },
    {
      "cell_type": "code",
      "metadata": {
        "colab": {
          "base_uri": "https://localhost:8080/",
          "height": 354
        },
        "id": "I5QjP5AHnFxF",
        "outputId": "e7aed84d-c182-4b99-b4bd-dc58dbca6d2f"
      },
      "source": [
        "sns.set_style(\"whitegrid\")\n",
        "sns.countplot(X_remove_outlier.Outcome, data=X_remove_outlier)"
      ],
      "execution_count": 19,
      "outputs": [
        {
          "output_type": "stream",
          "name": "stderr",
          "text": [
            "/usr/local/lib/python3.7/dist-packages/seaborn/_decorators.py:43: FutureWarning: Pass the following variable as a keyword arg: x. From version 0.12, the only valid positional argument will be `data`, and passing other arguments without an explicit keyword will result in an error or misinterpretation.\n",
            "  FutureWarning\n"
          ]
        },
        {
          "output_type": "execute_result",
          "data": {
            "text/plain": [
              "<matplotlib.axes._subplots.AxesSubplot at 0x7f8f9bc68bd0>"
            ]
          },
          "metadata": {},
          "execution_count": 19
        },
        {
          "output_type": "display_data",
          "data": {
            "image/png": "[encoded data removed]",
            "text/plain": [
              "<Figure size 432x288 with 1 Axes>"
            ]
          },
          "metadata": {}
        }
      ]
    },
    {
      "cell_type": "code",
      "metadata": {
        "colab": {
          "base_uri": "https://localhost:8080/"
        },
        "id": "hJ9TqLO-nMJU",
        "outputId": "41027167-a104-446f-8917-7066ceda7392"
      },
      "source": [
        "X=X_remove_outlier.drop(['Outcome'], axis='columns')\n",
        "Y=X_remove_outlier.Outcome\n",
        "print('The independent variable')\n",
        "print(X.head(10))\n",
        "print('The target part')\n",
        "print(Y.head(10))"
      ],
      "execution_count": 20,
      "outputs": [
        {
          "output_type": "stream",
          "name": "stdout",
          "text": [
            "The independent variable\n",
            "    Pregnancies  Glucose  BloodPressure  ...   BMI  DiabetesPedigreeFunction  Age\n",
            "0             6      148             72  ...  33.6                     0.627   50\n",
            "1             1       85             66  ...  26.6                     0.351   31\n",
            "2             8      183             64  ...  23.3                     0.672   32\n",
            "3             1       89             66  ...  28.1                     0.167   21\n",
            "5             5      116             74  ...  25.6                     0.201   30\n",
            "6             3       78             50  ...  31.0                     0.248   26\n",
            "10            4      110             92  ...  37.6                     0.191   30\n",
            "11           10      168             74  ...  38.0                     0.537   34\n",
            "14            5      166             72  ...  25.8                     0.587   51\n",
            "16            0      118             84  ...  45.8                     0.551   31\n",
            "\n",
            "[10 rows x 8 columns]\n",
            "The target part\n",
            "0     1\n",
            "1     0\n",
            "2     1\n",
            "3     0\n",
            "5     0\n",
            "6     1\n",
            "10    0\n",
            "11    1\n",
            "14    1\n",
            "16    1\n",
            "Name: Outcome, dtype: int64\n"
          ]
        }
      ]
    },
    {
      "cell_type": "code",
      "metadata": {
        "id": "hCR1GYKInSml"
      },
      "source": [
        "# MinMaxScaler preserves the shape of the original distributio\n",
        "from sklearn.preprocessing import MinMaxScaler\n",
        "scaler = MinMaxScaler()\n",
        "fetures=scaler.fit_transform(X)"
      ],
      "execution_count": 22,
      "outputs": []
    },
    {
      "cell_type": "code",
      "metadata": {
        "id": "4_Ai_mBfnvqt"
      },
      "source": [
        "from sklearn.model_selection import train_test_split\n",
        "X_train, X_test, y_train, y_test = train_test_split(X,Y,test_size=0.2)"
      ],
      "execution_count": 24,
      "outputs": []
    },
    {
      "cell_type": "code",
      "metadata": {
        "colab": {
          "base_uri": "https://localhost:8080/"
        },
        "id": "MDm34J9kn5hf",
        "outputId": "943ec264-581b-4f71-dce3-0943de2276fe"
      },
      "source": [
        "print(len(X_train))\n",
        "print(len(X_test))"
      ],
      "execution_count": 25,
      "outputs": [
        {
          "output_type": "stream",
          "name": "stdout",
          "text": [
            "511\n",
            "128\n"
          ]
        }
      ]
    },
    {
      "cell_type": "code",
      "metadata": {
        "colab": {
          "base_uri": "https://localhost:8080/"
        },
        "id": "x6WZD17Kn80z",
        "outputId": "583f6766-ba88-45d2-98aa-c28e8af5db42"
      },
      "source": [
        "from sklearn.tree import DecisionTreeClassifier\n",
        "model=DecisionTreeClassifier()\n",
        "model.fit(X_train,y_train)"
      ],
      "execution_count": 26,
      "outputs": [
        {
          "output_type": "execute_result",
          "data": {
            "text/plain": [
              "DecisionTreeClassifier(ccp_alpha=0.0, class_weight=None, criterion='gini',\n",
              "                       max_depth=None, max_features=None, max_leaf_nodes=None,\n",
              "                       min_impurity_decrease=0.0, min_impurity_split=None,\n",
              "                       min_samples_leaf=1, min_samples_split=2,\n",
              "                       min_weight_fraction_leaf=0.0, presort='deprecated',\n",
              "                       random_state=None, splitter='best')"
            ]
          },
          "metadata": {},
          "execution_count": 26
        }
      ]
    },
    {
      "cell_type": "code",
      "metadata": {
        "colab": {
          "base_uri": "https://localhost:8080/"
        },
        "id": "VaVDHf5yn-E9",
        "outputId": "5b060288-7240-4916-d1df-6fb6444156dd"
      },
      "source": [
        "# Compute confusion matrix to evaluate the accuracy of a classification.\n",
        "from sklearn.metrics import confusion_matrix\n",
        "y_pred=model.predict(X_test)\n",
        "cm=confusion_matrix(y_test,y_pred)\n",
        "cm"
      ],
      "execution_count": 27,
      "outputs": [
        {
          "output_type": "execute_result",
          "data": {
            "text/plain": [
              "array([[74, 17],\n",
              "       [17, 20]])"
            ]
          },
          "metadata": {},
          "execution_count": 27
        }
      ]
    },
    {
      "cell_type": "code",
      "metadata": {
        "colab": {
          "base_uri": "https://localhost:8080/"
        },
        "id": "yT0kMJ8EoTpL",
        "outputId": "e702d448-f232-4d2f-b9e4-10d95b694791"
      },
      "source": [
        "model.score(X_test,y_test)"
      ],
      "execution_count": 28,
      "outputs": [
        {
          "output_type": "execute_result",
          "data": {
            "text/plain": [
              "0.734375"
            ]
          },
          "metadata": {},
          "execution_count": 28
        }
      ]
    },
    {
      "cell_type": "code",
      "metadata": {
        "colab": {
          "base_uri": "https://localhost:8080/"
        },
        "id": "56TJbZyhoYK7",
        "outputId": "217e45f1-e709-4c76-c138-835d831936be"
      },
      "source": [
        "from sklearn.metrics import classification_report\n",
        "print(classification_report(y_test, y_pred))"
      ],
      "execution_count": 29,
      "outputs": [
        {
          "output_type": "stream",
          "name": "stdout",
          "text": [
            "              precision    recall  f1-score   support\n",
            "\n",
            "           0       0.81      0.81      0.81        91\n",
            "           1       0.54      0.54      0.54        37\n",
            "\n",
            "    accuracy                           0.73       128\n",
            "   macro avg       0.68      0.68      0.68       128\n",
            "weighted avg       0.73      0.73      0.73       128\n",
            "\n"
          ]
        }
      ]
    },
    {
      "cell_type": "code",
      "metadata": {
        "colab": {
          "base_uri": "https://localhost:8080/"
        },
        "id": "y5Nuc5ECoauz",
        "outputId": "b2de03e1-6126-4367-b31c-96d58b4321cb"
      },
      "source": [
        "from sklearn.ensemble import RandomForestClassifier\n",
        "model_RF=RandomForestClassifier(n_estimators=100, min_samples_leaf=100, max_features=5)\n",
        "model_RF.fit(X_train,y_train)"
      ],
      "execution_count": 30,
      "outputs": [
        {
          "output_type": "execute_result",
          "data": {
            "text/plain": [
              "RandomForestClassifier(bootstrap=True, ccp_alpha=0.0, class_weight=None,\n",
              "                       criterion='gini', max_depth=None, max_features=5,\n",
              "                       max_leaf_nodes=None, max_samples=None,\n",
              "                       min_impurity_decrease=0.0, min_impurity_split=None,\n",
              "                       min_samples_leaf=100, min_samples_split=2,\n",
              "                       min_weight_fraction_leaf=0.0, n_estimators=100,\n",
              "                       n_jobs=None, oob_score=False, random_state=None,\n",
              "                       verbose=0, warm_start=False)"
            ]
          },
          "metadata": {},
          "execution_count": 30
        }
      ]
    },
    {
      "cell_type": "code",
      "metadata": {
        "colab": {
          "base_uri": "https://localhost:8080/"
        },
        "id": "vy4A3bh5oxoc",
        "outputId": "1780b617-737d-4ff3-da82-d16ebc6f58f3"
      },
      "source": [
        "y_pred_RF=model.predict(X_test)\n",
        "cm_RF=confusion_matrix(y_test,y_pred)\n",
        "cm_RF"
      ],
      "execution_count": 31,
      "outputs": [
        {
          "output_type": "execute_result",
          "data": {
            "text/plain": [
              "array([[74, 17],\n",
              "       [17, 20]])"
            ]
          },
          "metadata": {},
          "execution_count": 31
        }
      ]
    },
    {
      "cell_type": "code",
      "metadata": {
        "colab": {
          "base_uri": "https://localhost:8080/"
        },
        "id": "OiqtoehEo1Ow",
        "outputId": "c194c3c2-2ded-4f11-c4e1-f35f4290efbe"
      },
      "source": [
        "from sklearn.metrics import classification_report\n",
        "print(classification_report(y_test, y_pred_RF))"
      ],
      "execution_count": 32,
      "outputs": [
        {
          "output_type": "stream",
          "name": "stdout",
          "text": [
            "              precision    recall  f1-score   support\n",
            "\n",
            "           0       0.81      0.81      0.81        91\n",
            "           1       0.54      0.54      0.54        37\n",
            "\n",
            "    accuracy                           0.73       128\n",
            "   macro avg       0.68      0.68      0.68       128\n",
            "weighted avg       0.73      0.73      0.73       128\n",
            "\n"
          ]
        }
      ]
    },
    {
      "cell_type": "code",
      "metadata": {
        "colab": {
          "base_uri": "https://localhost:8080/"
        },
        "id": "eTP79wZoo32T",
        "outputId": "2ae597ac-ec2b-4fc5-c32c-7ece3cb09482"
      },
      "source": [
        "from sklearn.linear_model import LogisticRegression\n",
        "model_LR=LogisticRegression()\n",
        "model_LR.fit(X_train,y_train)"
      ],
      "execution_count": 33,
      "outputs": [
        {
          "output_type": "stream",
          "name": "stderr",
          "text": [
            "/usr/local/lib/python3.7/dist-packages/sklearn/linear_model/_logistic.py:940: ConvergenceWarning: lbfgs failed to converge (status=1):\n",
            "STOP: TOTAL NO. of ITERATIONS REACHED LIMIT.\n",
            "\n",
            "Increase the number of iterations (max_iter) or scale the data as shown in:\n",
            "    https://scikit-learn.org/stable/modules/preprocessing.html\n",
            "Please also refer to the documentation for alternative solver options:\n",
            "    https://scikit-learn.org/stable/modules/linear_model.html#logistic-regression\n",
            "  extra_warning_msg=_LOGISTIC_SOLVER_CONVERGENCE_MSG)\n"
          ]
        },
        {
          "output_type": "execute_result",
          "data": {
            "text/plain": [
              "LogisticRegression(C=1.0, class_weight=None, dual=False, fit_intercept=True,\n",
              "                   intercept_scaling=1, l1_ratio=None, max_iter=100,\n",
              "                   multi_class='auto', n_jobs=None, penalty='l2',\n",
              "                   random_state=None, solver='lbfgs', tol=0.0001, verbose=0,\n",
              "                   warm_start=False)"
            ]
          },
          "metadata": {},
          "execution_count": 33
        }
      ]
    },
    {
      "cell_type": "code",
      "metadata": {
        "colab": {
          "base_uri": "https://localhost:8080/"
        },
        "id": "oO-rToY4qZyj",
        "outputId": "f529b30e-4bb4-41dc-dc92-a4e669871c7d"
      },
      "source": [
        "y_pred_LR=model.predict(X_test)\n",
        "cm_LR=confusion_matrix(y_test,y_pred)\n",
        "cm_LR"
      ],
      "execution_count": 34,
      "outputs": [
        {
          "output_type": "execute_result",
          "data": {
            "text/plain": [
              "array([[74, 17],\n",
              "       [17, 20]])"
            ]
          },
          "metadata": {},
          "execution_count": 34
        }
      ]
    },
    {
      "cell_type": "code",
      "metadata": {
        "colab": {
          "base_uri": "https://localhost:8080/"
        },
        "id": "lTdaSjzFqfVd",
        "outputId": "0000ca41-7ae7-47db-c0fc-1b7524075817"
      },
      "source": [
        "from sklearn.metrics import classification_report\n",
        "print(classification_report(y_test, y_pred_LR))"
      ],
      "execution_count": 35,
      "outputs": [
        {
          "output_type": "stream",
          "name": "stdout",
          "text": [
            "              precision    recall  f1-score   support\n",
            "\n",
            "           0       0.81      0.81      0.81        91\n",
            "           1       0.54      0.54      0.54        37\n",
            "\n",
            "    accuracy                           0.73       128\n",
            "   macro avg       0.68      0.68      0.68       128\n",
            "weighted avg       0.73      0.73      0.73       128\n",
            "\n"
          ]
        }
      ]
    },
    {
      "cell_type": "code",
      "metadata": {
        "colab": {
          "base_uri": "https://localhost:8080/"
        },
        "id": "qjbU4piWqiJK",
        "outputId": "b84e7e2b-40b5-42eb-d95a-352ea59b6a1a"
      },
      "source": [
        "from sklearn.svm import SVC\n",
        "model_SVC=SVC(kernel='linear')\n",
        "model_SVC.fit(X_train,y_train)"
      ],
      "execution_count": 36,
      "outputs": [
        {
          "output_type": "execute_result",
          "data": {
            "text/plain": [
              "SVC(C=1.0, break_ties=False, cache_size=200, class_weight=None, coef0=0.0,\n",
              "    decision_function_shape='ovr', degree=3, gamma='scale', kernel='linear',\n",
              "    max_iter=-1, probability=False, random_state=None, shrinking=True,\n",
              "    tol=0.001, verbose=False)"
            ]
          },
          "metadata": {},
          "execution_count": 36
        }
      ]
    },
    {
      "cell_type": "code",
      "metadata": {
        "colab": {
          "base_uri": "https://localhost:8080/"
        },
        "id": "r37F3ZRSqj6s",
        "outputId": "d114a360-4290-4dbf-c50b-6bd044e03875"
      },
      "source": [
        "y_pred_SVC=model.predict(X_test)\n",
        "cm_SVC=confusion_matrix(y_test,y_pred)\n",
        "cm_SVC"
      ],
      "execution_count": 37,
      "outputs": [
        {
          "output_type": "execute_result",
          "data": {
            "text/plain": [
              "array([[74, 17],\n",
              "       [17, 20]])"
            ]
          },
          "metadata": {},
          "execution_count": 37
        }
      ]
    },
    {
      "cell_type": "code",
      "metadata": {
        "colab": {
          "base_uri": "https://localhost:8080/"
        },
        "id": "HSzjagXSqnL6",
        "outputId": "72dcbab8-43c4-4a80-a67b-2b3c2894bf33"
      },
      "source": [
        "from sklearn.metrics import classification_report\n",
        "print(classification_report(y_test, y_pred_SVC))"
      ],
      "execution_count": 38,
      "outputs": [
        {
          "output_type": "stream",
          "name": "stdout",
          "text": [
            "              precision    recall  f1-score   support\n",
            "\n",
            "           0       0.81      0.81      0.81        91\n",
            "           1       0.54      0.54      0.54        37\n",
            "\n",
            "    accuracy                           0.73       128\n",
            "   macro avg       0.68      0.68      0.68       128\n",
            "weighted avg       0.73      0.73      0.73       128\n",
            "\n"
          ]
        }
      ]
    },
    {
      "cell_type": "code",
      "metadata": {
        "colab": {
          "base_uri": "https://localhost:8080/",
          "height": 297
        },
        "id": "N5bom3C9qpQa",
        "outputId": "0cd1c2e2-7be3-412f-f9a0-98fc5a21f0ce"
      },
      "source": [
        "sns.heatmap(cm_SVC,annot=True)\n",
        "plt.xlabel('True')\n",
        "plt.ylabel('Predicted')"
      ],
      "execution_count": 39,
      "outputs": [
        {
          "output_type": "execute_result",
          "data": {
            "text/plain": [
              "Text(33.0, 0.5, 'Predicted')"
            ]
          },
          "metadata": {},
          "execution_count": 39
        },
        {
          "output_type": "display_data",
          "data": {
            "image/png": "[encoded data removed]",
            "text/plain": [
              "<Figure size 432x288 with 2 Axes>"
            ]
          },
          "metadata": {}
        }
      ]
    }
  ]
}